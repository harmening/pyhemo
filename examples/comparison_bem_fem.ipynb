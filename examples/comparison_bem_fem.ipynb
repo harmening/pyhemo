{
 "cells": [
  {
   "cell_type": "markdown",
   "metadata": {},
   "source": [
    "# Example BEM and FEM forward calculation on Colin"
   ]
  },
  {
   "cell_type": "code",
   "execution_count": null,
   "metadata": {},
   "outputs": [],
   "source": [
    "import os, numpy as np\n",
    "from collections import OrderedDict   \n",
    "from pyhemo.DUNEuroHead import DUNEuroHead\n",
    "from pyhemo.OpenMEEGHead import OpenMEEGHead"
   ]
  },
  {
   "cell_type": "code",
   "execution_count": null,
   "metadata": {},
   "outputs": [],
   "source": [
    "DATADIR = os.path.join('/', 'examples', 'colin')"
   ]
  },
  {
   "cell_type": "code",
   "execution_count": null,
   "metadata": {},
   "outputs": [],
   "source": [
    "# IO helper function\n",
    "def load_elecs_dips_txt(fn):\n",
    "    with open(fn, 'r') as f:\n",
    "    \telecs = [[float(i) for i in line.split()] for line in f.readlines()]\n",
    "    return elecs"
   ]
  },
  {
   "cell_type": "markdown",
   "metadata": {},
   "source": [
    "Common settings:"
   ]
  },
  {
   "cell_type": "code",
   "execution_count": null,
   "metadata": {},
   "outputs": [],
   "source": [
    "# Setting conductivity values in S/m\n",
    "cond = {'air': 2.5*pow(10, -14), 'gray': 0.33, 'white': 0.33, 'csf': 1.78, 'skull':  0.004125, 'scalp': 0.25} \n",
    "# Load electrode positions\n",
    "sensors = load_elecs_dips_txt(os.path.join(DATADIR, 'electrodes_aligned.txt'))"
   ]
  },
  {
   "cell_type": "markdown",
   "metadata": {},
   "source": [
    "Create BEM head instance"
   ]
  },
  {
   "cell_type": "code",
   "execution_count": null,
   "metadata": {},
   "outputs": [],
   "source": [
    "# Constructor needs conductivity, meshes, electrode positions\n",
    "from pyhemo.data_io import load_tri\n",
    "conductivity = {'scalp': cond['scalp'], 'skull': cond['skull'], 'csf': cond['csf'], 'cortex': cond['white']}\n",
    "geometry = OrderedDict([('cortex', load_tri(os.path.join(DATADIR, 'cortex.tri'))), \n",
    "                        ('csf', load_tri(os.path.join(DATADIR, 'csf.tri'))), \n",
    "                        ('skull', load_tri(os.path.join(DATADIR, 'skull.tri'))), \n",
    "                        ('scalp', load_tri(os.path.join(DATADIR, 'scalp.tri')))])\n",
    "bem = OpenMEEGHead(conductivity, geometry, sensors)"
   ]
  },
  {
   "cell_type": "markdown",
   "metadata": {},
   "source": [
    "Create FEM instance of mesh from MRIsegmentation (6 tissue types)"
   ]
  },
  {
   "cell_type": "code",
   "execution_count": null,
   "metadata": {},
   "outputs": [],
   "source": [
    "mesh_filename = os.path.join(DATADIR, 'mesh6_maxvoxvol5.msh')\n",
    "fem6 = DUNEuroHead(cond, mesh_filename, sensors)"
   ]
  },
  {
   "cell_type": "markdown",
   "metadata": {},
   "source": [
    "Create FEM instance (of the 4 nested meshes above)"
   ]
  },
  {
   "cell_type": "code",
   "execution_count": null,
   "metadata": {},
   "outputs": [],
   "source": [
    "mesh_filename = os.path.join(DATADIR, 'bnd4_1922_FEM.msh')\n",
    "fem4 = DUNEuroHead(conductivity, mesh_filename, sensors)"
   ]
  },
  {
   "cell_type": "markdown",
   "metadata": {},
   "source": [
    "Add dipoles to heads"
   ]
  },
  {
   "cell_type": "code",
   "execution_count": null,
   "metadata": {},
   "outputs": [],
   "source": [
    "# Load sourcemodel from segmentation\n",
    "dipoles = load_elecs_dips_txt(os.path.join(DATADIR, 'sourcemodel2000.txt'))\n",
    "# Choose 10 dipoles (due to time constraints)\n",
    "dipoles = np.array(dipoles)[np.random.choice(len(dipoles), 10)]\n",
    "# Add dipoles to head\n",
    "bem.add_dipoles(dipoles)\n",
    "fem4.add_dipoles(dipoles)\n",
    "fem6.add_dipoles(dipoles)"
   ]
  },
  {
   "cell_type": "markdown",
   "metadata": {},
   "source": [
    "Calculate BEM leadfields"
   ]
  },
  {
   "cell_type": "code",
   "execution_count": null,
   "metadata": {},
   "outputs": [],
   "source": [
    "# This takes approximately 2min\n",
    "import time\n",
    "a = time.time()\n",
    "V_bem = {'dsm': bem.V('dsm')}\n",
    "print('\\nCalculated BEM leadfields in %f min.\\n' % ((time.time()-a)/60))"
   ]
  },
  {
   "cell_type": "markdown",
   "metadata": {},
   "source": [
    "Calculate FEM leadfields"
   ]
  },
  {
   "cell_type": "code",
   "execution_count": null,
   "metadata": {},
   "outputs": [],
   "source": [
    "# This usually is very quick - approx 1-2min - due to the small mesh size (117k)\n",
    "b = time.time()\n",
    "V_fem4 = {}\n",
    "for sm_type in ['Partial integration', 'Venant', 'Subtraction', 'Spatial Venant']:\n",
    "    V_fem4[sm_type] = fem4.V(sm_type)\n",
    "V_fem6 = {}\n",
    "for sm_type in ['Partial integration', 'Venant', 'Subtraction', 'Spatial Venant']:\n",
    "    V_fem6[sm_type] = fem6.V(sm_type)\n",
    "print('\\nCalculated FEM leadfields in %f min.\\n' % ((time.time()-b)/60))"
   ]
  },
  {
   "cell_type": "markdown",
   "metadata": {},
   "source": [
    "Compare FEM and BEM results"
   ]
  },
  {
   "cell_type": "code",
   "execution_count": null,
   "metadata": {},
   "outputs": [],
   "source": [
    "print('Calculate Pearson correlation of BEM with different FEMs of (FEM6):')\n",
    "for sm_type in ['Partial integration', 'Venant', 'Subtraction', 'Spatial Venant']:\n",
    "    c = np.mean([np.abs(np.corrcoef(V_bem['dsm'][:,i], V_fem6[sm_type][:,i])[0,1]) for i in range(10)])\n",
    "    print('%s: %f' % (sm_type, c))"
   ]
  },
  {
   "cell_type": "code",
   "execution_count": null,
   "metadata": {},
   "outputs": [],
   "source": [
    "print('Calculate Pearson correlation of BEM with different FEMs of (FEM4):')\n",
    "for sm_type in ['Partial integration', 'Venant', 'Subtraction', 'Spatial Venant']:\n",
    "    c = np.mean([np.abs(np.corrcoef(V_bem['dsm'][:,i], V_fem4[sm_type][:,i])[0,1]) for i in range(10)])\n",
    "    print('%s: %f' % (sm_type, c))"
   ]
  },
  {
   "cell_type": "code",
   "execution_count": null,
   "metadata": {},
   "outputs": [],
   "source": []
  }
 ],
 "metadata": {
  "kernelspec": {
   "display_name": "Python 3 (ipykernel)",
   "language": "python",
   "name": "python3"
  },
  "language_info": {
   "codemirror_mode": {
    "name": "ipython",
    "version": 3
   },
   "file_extension": ".py",
   "mimetype": "text/x-python",
   "name": "python",
   "nbconvert_exporter": "python",
   "pygments_lexer": "ipython3",
   "version": "3.7.13"
  }
 },
 "nbformat": 4,
 "nbformat_minor": 2
}
